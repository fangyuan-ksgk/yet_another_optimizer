{
 "cells": [
  {
   "cell_type": "code",
   "execution_count": 1,
   "id": "2439d434-bd57-493a-a089-1b96f19ea722",
   "metadata": {},
   "outputs": [],
   "source": [
    "import torch \n",
    "import torch.nn as nn \n",
    "\n",
    "# model_dtype = torch.bfloat16 \n",
    "model_dtype = torch.float32\n",
    "\n",
    "model = nn.Linear(10, 5)\n",
    "model.to(model_dtype)\n",
    "\n",
    "# Toy case: \n",
    "# - multiplication operation (dimension pair multiply)\n",
    "N = 50\n",
    "input = torch.randn((N, 10)).to(model_dtype)\n",
    "output = input[:,::2] * input[:,1::2].to(model_dtype)\n",
    "\n",
    "def criterion(pred, target): \n",
    "    l2_loss = torch.norm(pred - output, p=2, dim=1)\n",
    "    return l2_loss.mean()"
   ]
  },
  {
   "cell_type": "code",
   "execution_count": 2,
   "id": "a5d81d14-76df-4f36-91ec-0b41002066e0",
   "metadata": {},
   "outputs": [],
   "source": [
    "# from yao import YAO\n",
    "from temp_yao import YAO\n",
    "\n",
    "# yao optimizer\n",
    "yao_optimizer = YAO(params=model.parameters())"
   ]
  },
  {
   "cell_type": "code",
   "execution_count": 3,
   "id": "09a6df97-16e8-47f0-a083-7a6ad6a4f82b",
   "metadata": {},
   "outputs": [],
   "source": [
    "# compute loss \n",
    "# pred = model(input)\n",
    "# loss = criterion(pred, output)\n",
    "\n",
    "# # Backward pass\n",
    "# yao_optimizer.zero_grad()\n",
    "# loss.backward()\n",
    "# yao_optimizer._local_step()"
   ]
  },
  {
   "cell_type": "code",
   "execution_count": 3,
   "id": "3ad1d011-5329-467c-80fe-af5bebc71c87",
   "metadata": {
    "collapsed": true,
    "jupyter": {
     "outputs_hidden": true
    }
   },
   "outputs": [
    {
     "name": "stdout",
     "output_type": "stream",
     "text": [
      ":: Global Step ::\n",
      "Train iter 0/100 - loss 2.024352788925171\n",
      "Train iter 1/100 - loss 2.0232837200164795\n",
      "Train iter 2/100 - loss 2.0223934650421143\n",
      "Train iter 3/100 - loss 2.021376848220825\n",
      "Train iter 4/100 - loss 2.0207016468048096\n",
      "Train iter 5/100 - loss 2.0198559761047363\n",
      "Train iter 6/100 - loss 2.0188424587249756\n",
      "Train iter 7/100 - loss 2.017977237701416\n",
      "Train iter 8/100 - loss 2.016960382461548\n",
      "Train iter 9/100 - loss 2.015937328338623\n",
      ":: Global Step ::\n",
      "Train iter 10/100 - loss 2.0148766040802\n",
      "Train iter 11/100 - loss 2.0140020847320557\n",
      "Train iter 12/100 - loss 2.012979745864868\n",
      "Train iter 13/100 - loss 2.0120849609375\n",
      "Train iter 14/100 - loss 2.011176586151123\n",
      "Train iter 15/100 - loss 2.010314702987671\n",
      "Train iter 16/100 - loss 2.009370803833008\n",
      "Train iter 17/100 - loss 2.0084056854248047\n",
      "Train iter 18/100 - loss 2.007431745529175\n",
      "Train iter 19/100 - loss 2.0065548419952393\n",
      ":: Global Step ::\n",
      "Train iter 20/100 - loss 2.0056729316711426\n",
      "Train iter 21/100 - loss 2.004815101623535\n",
      "Train iter 22/100 - loss 2.0039308071136475\n",
      "Train iter 23/100 - loss 2.0030901432037354\n",
      "Train iter 24/100 - loss 2.0021960735321045\n",
      "Train iter 25/100 - loss 2.0012831687927246\n",
      "Train iter 26/100 - loss 2.000234842300415\n",
      "Train iter 27/100 - loss 1.9992644786834717\n",
      "Train iter 28/100 - loss 1.9983227252960205\n",
      "Train iter 29/100 - loss 1.9974582195281982\n",
      ":: Global Step ::\n",
      "Train iter 30/100 - loss 1.9966124296188354\n",
      "Train iter 31/100 - loss 1.9956190586090088\n",
      "Train iter 32/100 - loss 1.9946380853652954\n",
      "Train iter 33/100 - loss 1.993595838546753\n",
      "Train iter 34/100 - loss 1.9925603866577148\n",
      "Train iter 35/100 - loss 1.9914425611495972\n",
      "Train iter 36/100 - loss 1.9904731512069702\n",
      "Train iter 37/100 - loss 1.9895455837249756\n",
      "Train iter 38/100 - loss 1.9886445999145508\n",
      "Train iter 39/100 - loss 1.9877263307571411\n",
      ":: Global Step ::\n",
      "Train iter 40/100 - loss 1.9868243932724\n",
      "Train iter 41/100 - loss 1.9858697652816772\n",
      "Train iter 42/100 - loss 1.9849648475646973\n",
      "Train iter 43/100 - loss 1.983982801437378\n",
      "Train iter 44/100 - loss 1.9830595254898071\n",
      "Train iter 45/100 - loss 1.9821524620056152\n",
      "Train iter 46/100 - loss 1.981176495552063\n",
      "Train iter 47/100 - loss 1.9802579879760742\n",
      "Train iter 48/100 - loss 1.9793281555175781\n",
      "Train iter 49/100 - loss 1.9783751964569092\n",
      ":: Global Step ::\n",
      "Train iter 50/100 - loss 1.9774781465530396\n",
      "Train iter 51/100 - loss 1.9765456914901733\n",
      "Train iter 52/100 - loss 1.9756485223770142\n",
      "Train iter 53/100 - loss 1.974765658378601\n",
      "Train iter 54/100 - loss 1.9738929271697998\n",
      "Train iter 55/100 - loss 1.972986102104187\n",
      "Train iter 56/100 - loss 1.9720869064331055\n",
      "Train iter 57/100 - loss 1.971256971359253\n",
      "Train iter 58/100 - loss 1.9703396558761597\n",
      "Train iter 59/100 - loss 1.969568133354187\n",
      ":: Global Step ::\n",
      "Train iter 60/100 - loss 1.9686297178268433\n",
      "Train iter 61/100 - loss 1.967889666557312\n",
      "Train iter 62/100 - loss 1.9668371677398682\n",
      "Train iter 63/100 - loss 1.965958595275879\n",
      "Train iter 64/100 - loss 1.9650343656539917\n",
      "Train iter 65/100 - loss 1.964145541191101\n",
      "Train iter 66/100 - loss 1.9633053541183472\n",
      "Train iter 67/100 - loss 1.9623435735702515\n",
      "Train iter 68/100 - loss 1.9614776372909546\n",
      "Train iter 69/100 - loss 1.9605647325515747\n",
      ":: Global Step ::\n",
      "Train iter 70/100 - loss 1.9597026109695435\n",
      "Train iter 71/100 - loss 1.9588931798934937\n",
      "Train iter 72/100 - loss 1.958072304725647\n",
      "Train iter 73/100 - loss 1.9572193622589111\n",
      "Train iter 74/100 - loss 1.9563446044921875\n",
      "Train iter 75/100 - loss 1.9555258750915527\n",
      "Train iter 76/100 - loss 1.9546868801116943\n",
      "Train iter 77/100 - loss 1.9539152383804321\n",
      "Train iter 78/100 - loss 1.9531370401382446\n",
      "Train iter 79/100 - loss 1.952184796333313\n",
      ":: Global Step ::\n",
      "Train iter 80/100 - loss 1.951236605644226\n",
      "Train iter 81/100 - loss 1.9502781629562378\n",
      "Train iter 82/100 - loss 1.9493287801742554\n",
      "Train iter 83/100 - loss 1.9483729600906372\n",
      "Train iter 84/100 - loss 1.9474782943725586\n",
      "Train iter 85/100 - loss 1.9465703964233398\n",
      "Train iter 86/100 - loss 1.9456391334533691\n",
      "Train iter 87/100 - loss 1.9447261095046997\n",
      "Train iter 88/100 - loss 1.9438341856002808\n",
      "Train iter 89/100 - loss 1.9430584907531738\n",
      ":: Global Step ::\n",
      "Train iter 90/100 - loss 1.942223072052002\n",
      "Train iter 91/100 - loss 1.9415078163146973\n",
      "Train iter 92/100 - loss 1.940697431564331\n",
      "Train iter 93/100 - loss 1.9398300647735596\n",
      "Train iter 94/100 - loss 1.9389861822128296\n",
      "Train iter 95/100 - loss 1.937880277633667\n",
      "Train iter 96/100 - loss 1.9371037483215332\n",
      "Train iter 97/100 - loss 1.9359829425811768\n",
      "Train iter 98/100 - loss 1.9351199865341187\n",
      "Train iter 99/100 - loss 1.934209942817688\n"
     ]
    }
   ],
   "source": [
    "# loop \n",
    "epochs = 100 \n",
    "\n",
    "for epoch in range(epochs): \n",
    "    pred = model(input)\n",
    "    loss = criterion(pred, output)\n",
    "\n",
    "    yao_optimizer.zero_grad() \n",
    "    loss.backward() \n",
    "    yao_optimizer.step(loss)\n",
    "    print(f\"Train iter {epoch}/{epochs} - loss {loss.item()}\")"
   ]
  },
  {
   "cell_type": "code",
   "execution_count": 12,
   "id": "e68cd6df-1168-4cbb-960c-9e670de0f1d9",
   "metadata": {},
   "outputs": [
    {
     "data": {
      "text/plain": [
       "(torch.Size([10, 5]), torch.Size([10, 5]))"
      ]
     },
     "execution_count": 12,
     "metadata": {},
     "output_type": "execute_result"
    }
   ],
   "source": [
    "U.shape, V.shape"
   ]
  },
  {
   "cell_type": "code",
   "execution_count": null,
   "id": "af25ca21-8669-4213-be40-681581fe1300",
   "metadata": {},
   "outputs": [],
   "source": []
  },
  {
   "cell_type": "code",
   "execution_count": null,
   "id": "5268ae1d-3a86-4d7f-9162-555f44bbdeab",
   "metadata": {},
   "outputs": [],
   "source": []
  },
  {
   "cell_type": "code",
   "execution_count": null,
   "id": "dab3c363-63f3-4941-90dc-552431a5bda5",
   "metadata": {},
   "outputs": [],
   "source": []
  },
  {
   "cell_type": "code",
   "execution_count": 5,
   "id": "bdd9f057-09d9-47f5-a3a9-ac54816527d3",
   "metadata": {},
   "outputs": [],
   "source": [
    "# Update max_loss and compute new rank\n",
    "self = yao_optimizer \n",
    "current_loss = loss.item() \n",
    "\n",
    "if self.max_loss is None:\n",
    "    self.max_loss = current_loss\n",
    "else:\n",
    "    self.max_loss = max(self.max_loss, current_loss)\n",
    "\n",
    "for group in self.param_groups:\n",
    "    for p in group[\"params\"]:\n",
    "        if not self.state[p][\"use_arg\"]:\n",
    "            continue  # Skip non-low-rank params\n",
    "\n",
    "        state = self.state[p]\n",
    "        if \"moment1_u\" not in state:\n",
    "            continue  # Not initialized yet\n",
    "\n",
    "        # Adaptive rank for each parameter\n",
    "        new_rank = calculate_rank(current_loss, self.max_loss, max_rank=min(p.shape))\n",
    "\n",
    "        # Get current rank and buffers\n",
    "        current_rank = state[\"moment1_u\"].shape[1]\n",
    "        if new_rank == current_rank:\n",
    "            continue  # No change needed\n",
    "\n",
    "        # Project momentum buffers to new rank\n",
    "        state[\"moment1_u\"] = self._adjust_rank(state[\"moment1_u\"], new_rank)\n",
    "        state[\"moment1_v\"] = self._adjust_rank(state[\"moment1_v\"], new_rank)\n",
    "        state[\"moment1_s\"] = self._adjust_rank(state[\"moment1_s\"], new_rank)\n",
    "        state[\"moment2_s\"] = self._adjust_rank(state[\"moment2_s\"], new_rank)"
   ]
  },
  {
   "cell_type": "code",
   "execution_count": 8,
   "id": "8f569b7e-0032-48e7-a54e-c232a85de1bb",
   "metadata": {},
   "outputs": [
    {
     "name": "stdout",
     "output_type": "stream",
     "text": [
      "Current loss: 2.1349761486053467 | Max loss: 2.1414403915405273\n"
     ]
    },
    {
     "data": {
      "text/plain": [
       "torch.Size([5, 99])"
      ]
     },
     "execution_count": 8,
     "metadata": {},
     "output_type": "execute_result"
    }
   ],
   "source": [
    "# new_rank # new rank is 99 --> wrong ... \n",
    "print(f\"Current loss: {current_loss} | Max loss: {self.max_loss}\")\n",
    "# adjust rank functional issue ... \n",
    "state[\"moment1_u\"].shape\n"
   ]
  },
  {
   "cell_type": "code",
   "execution_count": 10,
   "id": "7c92e948-ff3d-4007-8dae-8f9167c57722",
   "metadata": {},
   "outputs": [
    {
     "data": {
      "text/plain": [
       "(torch.Size([5, 99]), torch.Size([10, 99]))"
      ]
     },
     "execution_count": 10,
     "metadata": {},
     "output_type": "execute_result"
    }
   ],
   "source": [
    "state[\"moment1_u\"].shape, state[\"moment1_v\"].shape"
   ]
  },
  {
   "cell_type": "code",
   "execution_count": 11,
   "id": "05be5de4-3afa-4785-8963-7751d6329790",
   "metadata": {},
   "outputs": [
    {
     "data": {
      "text/plain": [
       "Parameter containing:\n",
       "tensor([ 0.1801, -0.2629, -0.2272,  0.2899, -0.1162], requires_grad=True)"
      ]
     },
     "execution_count": 11,
     "metadata": {},
     "output_type": "execute_result"
    }
   ],
   "source": [
    "p"
   ]
  },
  {
   "cell_type": "code",
   "execution_count": null,
   "id": "efe245b3-4b02-4f0c-b4b1-ebf7811c93c9",
   "metadata": {},
   "outputs": [],
   "source": []
  },
  {
   "cell_type": "code",
   "execution_count": null,
   "id": "0571f8aa-38ff-4a53-8c50-e0840565017f",
   "metadata": {},
   "outputs": [],
   "source": []
  },
  {
   "cell_type": "code",
   "execution_count": null,
   "id": "ef89fb5d-7b67-4fea-94f5-ffd6bcebe361",
   "metadata": {},
   "outputs": [],
   "source": []
  },
  {
   "cell_type": "code",
   "execution_count": null,
   "id": "1c3cee65-f092-4c59-b422-910dc95a63df",
   "metadata": {},
   "outputs": [],
   "source": []
  },
  {
   "cell_type": "code",
   "execution_count": null,
   "id": "dbb0a23c-adc1-4a30-8d8d-80cbae02cb76",
   "metadata": {},
   "outputs": [],
   "source": []
  },
  {
   "cell_type": "code",
   "execution_count": null,
   "id": "dd728a54-8bfc-4b29-b621-fe4ac3565a68",
   "metadata": {},
   "outputs": [],
   "source": []
  },
  {
   "cell_type": "code",
   "execution_count": null,
   "id": "e7fa2f32-4915-436c-b845-ff2801548034",
   "metadata": {},
   "outputs": [],
   "source": []
  },
  {
   "cell_type": "code",
   "execution_count": null,
   "id": "6016874a-4172-4e76-9624-4c39e12a1d5a",
   "metadata": {},
   "outputs": [],
   "source": []
  },
  {
   "cell_type": "code",
   "execution_count": 24,
   "id": "480100a9-eb63-452d-94ba-5d56cdd42abb",
   "metadata": {},
   "outputs": [
    {
     "name": "stdout",
     "output_type": "stream",
     "text": [
      "Shape of U: 5, 5 | V: 10, 5 | g: 5, 10\n",
      "Dtype of U: torch.float32 | V: torch.float32 | g: torch.float32\n",
      "Dtype of U Moment:  torch.float32\n",
      "Dtype of V Moment:  torch.float32\n"
     ]
    }
   ],
   "source": [
    "# Debugging run for local_step \n",
    "\n",
    "from temp_yao import * \n",
    "self = yao_optimizer\n",
    "\n",
    "\n",
    "for group in self.param_groups:\n",
    "    lr = group[\"lr\"]\n",
    "    beta1, beta2 = group[\"adamw_betas\"]\n",
    "    eps = group[\"adamw_eps\"]\n",
    "    weight_decay = group[\"wd\"]\n",
    "    \n",
    "    # --- Low-Rank Params ---\n",
    "    lowrank_params = [p for p in group[\"params\"] if self.state[p][\"use_arg\"]]\n",
    "    for p in lowrank_params:\n",
    "        g = p.grad\n",
    "        if g is None:\n",
    "            continue\n",
    "    \n",
    "        state = self.state[p]\n",
    "        if \"step\" not in state:\n",
    "            # Initialize on first step\n",
    "            rank = min(g.shape)  # Default rank (adjust if needed)\n",
    "            state[\"step\"] = 0\n",
    "            state[\"moment1_u\"] = torch.zeros(g.shape[0], rank)\n",
    "            state[\"moment1_v\"] = torch.zeros(g.shape[1], rank)\n",
    "            state[\"moment1_s\"] = torch.zeros(rank)\n",
    "            state[\"moment2_s\"] = torch.zeros(rank)\n",
    "    \n",
    "        # Low-rank SVD approximation | this guy does not seem to support bfloat16 input type\n",
    "        U, S, V = svd_lowrank(g, q=state[\"moment1_u\"].shape[1], niter=2)\n",
    "    \n",
    "        print(f\"Shape of U: {to_shape(U)} | V: {to_shape(V)} | g: {to_shape(g)}\") \n",
    "        print(f\"Dtype of U: {U.dtype} | V: {V.dtype} | g: {g.dtype}\")\n",
    "    \n",
    "        print(\"Dtype of U Moment: \", state['moment1_u'].dtype)\n",
    "        print(\"Dtype of V Moment: \", state[\"moment1_v\"].dtype)\n",
    "        \n",
    "        # Update momentum buffers\n",
    "        state[\"step\"] += 1\n",
    "        \n",
    "        # _beta1 = torch.tensor(beta1, dtype=torch.bfloat16)\n",
    "        # _beta2 = torch.tensor(beta2, dtype=torch.bfloat16)\n",
    "    \n",
    "        state[\"moment1_u\"].lerp_(U, 1 - beta1)\n",
    "        state[\"moment1_v\"].lerp_(V, 1 - beta1)\n",
    "        state[\"moment1_s\"].lerp_(S, 1 - beta1)\n",
    "        state[\"moment2_s\"].lerp_(S.norm()**2, 1 - beta2)\n",
    "    \n",
    "        # Newton-Schulz orthogonalization\n",
    "        U = zeropower_via_newtonschulz5(state[\"moment1_u\"], group[\"ns_steps\"])\n",
    "        V = zeropower_via_newtonschulz5(state[\"moment1_v\"], group[\"ns_steps\"])\n",
    "        _mid = (state[\"moment1_s\"] / (eps + state[\"moment2_s\"].sqrt())).unsqueeze(-1).to(torch.bfloat16)\n",
    "        g = U @ (_mid * V.T)"
   ]
  }
 ],
 "metadata": {
  "kernelspec": {
   "display_name": "Python 3 (ipykernel)",
   "language": "python",
   "name": "python3"
  },
  "language_info": {
   "codemirror_mode": {
    "name": "ipython",
    "version": 3
   },
   "file_extension": ".py",
   "mimetype": "text/x-python",
   "name": "python",
   "nbconvert_exporter": "python",
   "pygments_lexer": "ipython3",
   "version": "3.10.12"
  }
 },
 "nbformat": 4,
 "nbformat_minor": 5
}
